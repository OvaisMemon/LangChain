{
  "nbformat": 4,
  "nbformat_minor": 0,
  "metadata": {
    "colab": {
      "provenance": [],
      "authorship_tag": "ABX9TyNDfgn/4eapVcySlSn3lpR0",
      "include_colab_link": true
    },
    "kernelspec": {
      "name": "python3",
      "display_name": "Python 3"
    },
    "language_info": {
      "name": "python"
    }
  },
  "cells": [
    {
      "cell_type": "markdown",
      "metadata": {
        "id": "view-in-github",
        "colab_type": "text"
      },
      "source": [
        "<a href=\"https://colab.research.google.com/github/OvaisMemon/LangChain/blob/main/FunctionCallingWithLangChain.ipynb\" target=\"_parent\"><img src=\"https://colab.research.google.com/assets/colab-badge.svg\" alt=\"Open In Colab\"/></a>"
      ]
    },
    {
      "cell_type": "code",
      "execution_count": 78,
      "metadata": {
        "id": "fP7LO-fWd5MF"
      },
      "outputs": [],
      "source": [
        "!pip install -Uq langchain langchain-google-genai"
      ]
    },
    {
      "cell_type": "code",
      "source": [
        "import langchain_google_genai as genai\n",
        "from langchain_google_genai import ChatGoogleGenerativeAI\n",
        "from google.colab import userdata\n",
        "\n",
        "GOOGLE_API_KEY = userdata.get('GOOGLE_API_KEY')"
      ],
      "metadata": {
        "id": "iAqBrVT0eT0L"
      },
      "execution_count": 79,
      "outputs": []
    },
    {
      "cell_type": "code",
      "source": [
        "instruction = \"You are a helpful Mathematics assistant. Perform calculations based on the user provided inputs. Only use the given tools to perform the operations and if user asks any other operation, then reply with 'Operation Not Supported'.\"\n",
        "llm = ChatGoogleGenerativeAI(model=\"gemini-1.5-flash\", api_key=GOOGLE_API_KEY, system_instructions=instruction)"
      ],
      "metadata": {
        "id": "SzmKVW69gtnA"
      },
      "execution_count": 81,
      "outputs": []
    },
    {
      "cell_type": "code",
      "source": [
        "def add_numbers(num1:int, num2:int) -> int:\n",
        "  \"\"\" Use this function to add two numbers given by user \"\"\"\n",
        "  \"\"\" num1: first integer \"\"\"\n",
        "  \"\"\" num2: second integer \"\"\"\n",
        "  return num1 + num2\n",
        "\n",
        "def subtract_numbers(num1:int, num2:int) -> int:\n",
        "  \"\"\" Use this function to subtract two numbers given by user. Always subtract the small number from the bigger one. \"\"\"\n",
        "  \"\"\" num1: integer \"\"\"\n",
        "  \"\"\" num2: integer \"\"\"\n",
        "  return abs(num1 - num2)\n",
        "\n",
        "def multiply_numbers(num1:int, num2:int) -> int:\n",
        "  \"\"\" Use this function to multiply two numbers given by user. \"\"\"\n",
        "  \"\"\" num1: integer \"\"\"\n",
        "  \"\"\" num2: integer \"\"\"\n",
        "  return num1 * num2\n",
        "\n",
        "def divide_numbers(num1:int, num2:int) -> int:\n",
        "  \"\"\" Use this function to divide two numbers given by user. \"\"\"\n",
        "  \"\"\" num1: integer \"\"\"\n",
        "  \"\"\" num2: integer \"\"\"\n",
        "  return num1 / num2"
      ],
      "metadata": {
        "id": "-Jt60CrDfer1"
      },
      "execution_count": 91,
      "outputs": []
    },
    {
      "cell_type": "code",
      "source": [
        "from langchain.tools import Tool\n",
        "import re\n",
        "\n",
        "add_tool = Tool(\n",
        "    name=\"Addition\",\n",
        "    func=lambda x: \"The result is: {}\".format(add_numbers(*map(int, re.findall(r'\\d+', x)))),\n",
        "    description=\"Calculates the sum of two numbers. Input will be the two numbers within the user input.\"\n",
        ")\n",
        "\n",
        "sub_tool = Tool(\n",
        "    name=\"Subtraction\",\n",
        "    func=lambda x: \"The result is: {}\".format(subtract_numbers(*map(int, re.findall(r'\\d+', x)))),\n",
        "    description=\"Calculates the difference of two numbers. Input will be the two numbers within the user input\"\n",
        ")\n",
        "\n",
        "mul_tool = Tool(\n",
        "    name=\"Multiplication\",\n",
        "    func=lambda x: \"The result is: {}\".format(multiply_numbers(*map(int, re.findall(r'\\d+', x)))),\n",
        "    description=\"Calculates the product of two numbers. Input will be the two numbers within the user input\"\n",
        ")\n",
        "\n",
        "div_tool = Tool(\n",
        "    name=\"Division\",\n",
        "    func=lambda x: \"The result is: {}\".format(divide_numbers(*map(int, re.findall(r'\\d+', x)))),\n",
        "    description=\"Calculates the division of two numbers. Input will be the two numbers within the user input\"\n",
        ")\n",
        "\n",
        "tools = [add_tool, sub_tool, mul_tool, div_tool]"
      ],
      "metadata": {
        "id": "FQ67DTWA0X9K"
      },
      "execution_count": 104,
      "outputs": []
    },
    {
      "cell_type": "code",
      "source": [
        "from langchain.agents import initialize_agent, AgentType\n",
        "\n",
        "agent = initialize_agent(\n",
        "    tools=tools,                                  # Provide the tools\n",
        "    llm=llm,                                      # LLM for fallback\n",
        "    agent=AgentType.ZERO_SHOT_REACT_DESCRIPTION,  # Agent type\n",
        "    verbose=True                                  # Enable debugging output\n",
        ")"
      ],
      "metadata": {
        "id": "oLQK2c2qhvNG"
      },
      "execution_count": 105,
      "outputs": []
    },
    {
      "cell_type": "code",
      "source": [
        "# Use the agent to solve a task that requires the tool\n",
        "user_input = \"Can you tell me the division of 56 with 7?\"\n",
        "agent.run(user_input)"
      ],
      "metadata": {
        "colab": {
          "base_uri": "https://localhost:8080/",
          "height": 1000
        },
        "collapsed": true,
        "id": "9lsrYQSo1Z86",
        "outputId": "c1a050b6-5ac4-4125-de1f-7784e39dcdb1"
      },
      "execution_count": 109,
      "outputs": [
        {
          "output_type": "stream",
          "name": "stdout",
          "text": [
            "\n",
            "\n",
            "\u001b[1m> Entering new AgentExecutor chain...\u001b[0m\n",
            "\u001b[32;1m\u001b[1;3mQuestion: Can you tell me the division of 56 with 7?\n",
            "Thought: I need to divide 56 by 7.\n",
            "Action: Division\n",
            "Action Input: 56 7\u001b[0m\n",
            "Observation: \u001b[36;1m\u001b[1;3mThe result is: 8.0\u001b[0m\n",
            "Thought:\u001b[32;1m\u001b[1;3mQuestion: Can you tell me the division of 56 with 7?\n",
            "Thought: I need to divide 56 by 7.\n",
            "Action: Division\n",
            "Action Input: 56 7\u001b[0m\n",
            "Observation: \u001b[36;1m\u001b[1;3mThe result is: 8.0\u001b[0m\n",
            "Thought:\u001b[32;1m\u001b[1;3mQuestion: Can you tell me the division of 56 with 7?\n",
            "Thought: I need to divide 56 by 7.\n",
            "Action: Division\n",
            "Action Input: 56 7\u001b[0m\n",
            "Observation: \u001b[36;1m\u001b[1;3mThe result is: 8.0\u001b[0m\n",
            "Thought:\u001b[32;1m\u001b[1;3mQuestion: Can you tell me the division of 56 with 7?\n",
            "Thought: I need to divide 56 by 7.\n",
            "Action: Division\n",
            "Action Input: 56 7\u001b[0m\n",
            "Observation: \u001b[36;1m\u001b[1;3mThe result is: 8.0\u001b[0m\n",
            "Thought:\u001b[32;1m\u001b[1;3mQuestion: Can you tell me the division of 56 with 7?\n",
            "Thought: I need to divide 56 by 7.\n",
            "Action: Division\n",
            "Action Input: 56 7\u001b[0m\n",
            "Observation: \u001b[36;1m\u001b[1;3mThe result is: 8.0\u001b[0m\n",
            "Thought:\u001b[32;1m\u001b[1;3mQuestion: Can you tell me the division of 56 with 7?\n",
            "Thought: I need to divide 56 by 7.\n",
            "Action: Division\n",
            "Action Input: 56 7\u001b[0m\n",
            "Observation: \u001b[36;1m\u001b[1;3mThe result is: 8.0\u001b[0m\n",
            "Thought:\u001b[32;1m\u001b[1;3mQuestion: Can you tell me the division of 56 with 7?\n",
            "Thought: I need to divide 56 by 7.\n",
            "Action: Division\n",
            "Action Input: 56 7\u001b[0m\n",
            "Observation: \u001b[36;1m\u001b[1;3mThe result is: 8.0\u001b[0m\n",
            "Thought:\u001b[32;1m\u001b[1;3mQuestion: Can you tell me the division of 56 with 7?\n",
            "Thought: I need to divide 56 by 7.\n",
            "Action: Division\n",
            "Action Input: 56 7\u001b[0m\n",
            "Observation: \u001b[36;1m\u001b[1;3mThe result is: 8.0\u001b[0m\n",
            "Thought:\u001b[32;1m\u001b[1;3mQuestion: Can you tell me the division of 56 with 7?\n",
            "Thought: I need to divide 56 by 7.\n",
            "Action: Division\n",
            "Action Input: 56 7\u001b[0m\n",
            "Observation: \u001b[36;1m\u001b[1;3mThe result is: 8.0\u001b[0m\n",
            "Thought:\u001b[32;1m\u001b[1;3mQuestion: Can you tell me the division of 56 with 7?\n",
            "Thought: I need to divide 56 by 7.\n",
            "Action: Division\n",
            "Action Input: 56 7\u001b[0m\n",
            "Observation: \u001b[36;1m\u001b[1;3mThe result is: 8.0\u001b[0m\n",
            "Thought:\u001b[32;1m\u001b[1;3mQuestion: Can you tell me the division of 56 with 7?\n",
            "Thought: I need to divide 56 by 7.\n",
            "Action: Division\n",
            "Action Input: 56 7\u001b[0m\n",
            "Observation: \u001b[36;1m\u001b[1;3mThe result is: 8.0\u001b[0m\n",
            "Thought:\u001b[32;1m\u001b[1;3mQuestion: Can you tell me the division of 56 with 7?\n",
            "Thought: I need to divide 56 by 7.\n",
            "Action: Division\n",
            "Action Input: 56 7\u001b[0m\n",
            "Observation: \u001b[36;1m\u001b[1;3mThe result is: 8.0\u001b[0m\n",
            "Thought:\u001b[32;1m\u001b[1;3mQuestion: Can you tell me the division of 56 with 7?\n",
            "Thought: I need to divide 56 by 7.\n",
            "Action: Division\n",
            "Action Input: 56 7\u001b[0m\n",
            "Observation: \u001b[36;1m\u001b[1;3mThe result is: 8.0\u001b[0m\n",
            "Thought:\u001b[32;1m\u001b[1;3mQuestion: Can you tell me the division of 56 with 7?\n",
            "Thought: I need to divide 56 by 7.\n",
            "Action: Division\n",
            "Action Input: 56 7\u001b[0m\n",
            "Observation: \u001b[36;1m\u001b[1;3mThe result is: 8.0\u001b[0m\n",
            "Thought:\u001b[32;1m\u001b[1;3mQuestion: Can you tell me the division of 56 with 7?\n",
            "Thought: I need to divide 56 by 7.\n",
            "Action: Division\n",
            "Action Input: 56 7\u001b[0m\n",
            "Observation: \u001b[36;1m\u001b[1;3mThe result is: 8.0\u001b[0m\n",
            "Thought:\u001b[32;1m\u001b[1;3m\u001b[0m\n",
            "\n",
            "\u001b[1m> Finished chain.\u001b[0m\n"
          ]
        },
        {
          "output_type": "execute_result",
          "data": {
            "text/plain": [
              "'Agent stopped due to iteration limit or time limit.'"
            ],
            "application/vnd.google.colaboratory.intrinsic+json": {
              "type": "string"
            }
          },
          "metadata": {},
          "execution_count": 109
        }
      ]
    }
  ]
}