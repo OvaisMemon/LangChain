{
  "nbformat": 4,
  "nbformat_minor": 0,
  "metadata": {
    "colab": {
      "provenance": [],
      "authorship_tag": "ABX9TyOwGasI6hKyLxsJ0c3/wKdd",
      "include_colab_link": true
    },
    "kernelspec": {
      "name": "python3",
      "display_name": "Python 3"
    },
    "language_info": {
      "name": "python"
    }
  },
  "cells": [
    {
      "cell_type": "markdown",
      "metadata": {
        "id": "view-in-github",
        "colab_type": "text"
      },
      "source": [
        "<a href=\"https://colab.research.google.com/github/OvaisMemon/LangChain/blob/main/FunctionCallingWithLangChain.ipynb\" target=\"_parent\"><img src=\"https://colab.research.google.com/assets/colab-badge.svg\" alt=\"Open In Colab\"/></a>"
      ]
    },
    {
      "cell_type": "code",
      "execution_count": null,
      "metadata": {
        "colab": {
          "base_uri": "https://localhost:8080/"
        },
        "collapsed": true,
        "id": "fP7LO-fWd5MF",
        "outputId": "d7af55d3-3b9b-4285-c5f0-5f7f825c9fdc"
      },
      "outputs": [
        {
          "output_type": "stream",
          "name": "stdout",
          "text": [
            "\u001b[?25l   \u001b[90m━━━━━━━━━━━━━━━━━━━━━━━━━━━━━━━━━━━━━━━━\u001b[0m \u001b[32m0.0/1.0 MB\u001b[0m \u001b[31m?\u001b[0m eta \u001b[36m-:--:--\u001b[0m\r\u001b[2K   \u001b[91m━━━━━━━━━━━━\u001b[0m\u001b[90m╺\u001b[0m\u001b[90m━━━━━━━━━━━━━━━━━━━━━━━━━━━\u001b[0m \u001b[32m0.3/1.0 MB\u001b[0m \u001b[31m9.0 MB/s\u001b[0m eta \u001b[36m0:00:01\u001b[0m\r\u001b[2K   \u001b[91m━━━━━━━━━━━━━━━━━━━━━━━━━━━━━━━━━━━━━━━\u001b[0m\u001b[91m╸\u001b[0m \u001b[32m1.0/1.0 MB\u001b[0m \u001b[31m16.8 MB/s\u001b[0m eta \u001b[36m0:00:01\u001b[0m\r\u001b[2K   \u001b[91m━━━━━━━━━━━━━━━━━━━━━━━━━━━━━━━━━━━━━━━\u001b[0m\u001b[91m╸\u001b[0m \u001b[32m1.0/1.0 MB\u001b[0m \u001b[31m16.8 MB/s\u001b[0m eta \u001b[36m0:00:01\u001b[0m\r\u001b[2K   \u001b[90m━━━━━━━━━━━━━━━━━━━━━━━━━━━━━━━━━━━━━━━━\u001b[0m \u001b[32m1.0/1.0 MB\u001b[0m \u001b[31m8.5 MB/s\u001b[0m eta \u001b[36m0:00:00\u001b[0m\n",
            "\u001b[2K   \u001b[90m━━━━━━━━━━━━━━━━━━━━━━━━━━━━━━━━━━━━━━━━\u001b[0m \u001b[32m41.5/41.5 kB\u001b[0m \u001b[31m1.7 MB/s\u001b[0m eta \u001b[36m0:00:00\u001b[0m\n",
            "\u001b[2K   \u001b[90m━━━━━━━━━━━━━━━━━━━━━━━━━━━━━━━━━━━━━━━━\u001b[0m \u001b[32m411.6/411.6 kB\u001b[0m \u001b[31m6.8 MB/s\u001b[0m eta \u001b[36m0:00:00\u001b[0m\n",
            "\u001b[?25h"
          ]
        }
      ],
      "source": [
        "!pip install -Uq langchain langchain-google-genai"
      ]
    },
    {
      "cell_type": "code",
      "source": [
        "import langchain_google_genai as genai\n",
        "from langchain_google_genai import ChatGoogleGenerativeAI\n",
        "from google.colab import userdata\n",
        "\n",
        "GOOGLE_API_KEY = userdata.get('GOOGLE_API_KEY')"
      ],
      "metadata": {
        "id": "iAqBrVT0eT0L"
      },
      "execution_count": null,
      "outputs": []
    },
    {
      "cell_type": "code",
      "source": [
        "instruction = \"You are a helpful Mathematics assistant. Perform calculations based on the user provided inputs. Only use the given tools to perform the operations and if user asks any other operation, then reply with 'Operation Not Supported'.\"\n",
        "llm = ChatGoogleGenerativeAI(model=\"gemini-1.5-flash\", api_key=GOOGLE_API_KEY, system_instructions=instruction)"
      ],
      "metadata": {
        "id": "SzmKVW69gtnA"
      },
      "execution_count": null,
      "outputs": []
    },
    {
      "cell_type": "code",
      "source": [
        "def add_numbers(num1:int, num2:int) -> int:\n",
        "  \"\"\" Use this function to add two numbers given by user \"\"\"\n",
        "  \"\"\" num1: first integer \"\"\"\n",
        "  \"\"\" num2: second integer \"\"\"\n",
        "  return num1 + num2\n",
        "\n",
        "def subtract_numbers(num1:int, num2:int) -> int:\n",
        "  \"\"\" Use this function to subtract two numbers given by user. Always subtract the small number from the bigger one. \"\"\"\n",
        "  \"\"\" num1: integer \"\"\"\n",
        "  \"\"\" num2: integer \"\"\"\n",
        "  return abs(num1 - num2)\n",
        "\n",
        "def multiply_numbers(num1:int, num2:int) -> int:\n",
        "  \"\"\" Use this function to multiply two numbers given by user. \"\"\"\n",
        "  \"\"\" num1: integer \"\"\"\n",
        "  \"\"\" num2: integer \"\"\"\n",
        "  return num1 * num2\n",
        "\n",
        "def divide_numbers(num1:int, num2:int) -> int:\n",
        "  \"\"\" Use this function to divide two numbers given by user. \"\"\"\n",
        "  \"\"\" num1: integer \"\"\"\n",
        "  \"\"\" num2: integer \"\"\"\n",
        "  return num1 / num2"
      ],
      "metadata": {
        "id": "-Jt60CrDfer1"
      },
      "execution_count": null,
      "outputs": []
    },
    {
      "cell_type": "code",
      "source": [
        "from langchain.tools import Tool\n",
        "import re\n",
        "\n",
        "add_tool = Tool(\n",
        "    name=\"Addition\",\n",
        "    func=lambda x: \"The result is: {}\".format(add_numbers(*map(int, re.findall(r'\\d+', x)))),\n",
        "    description=\"Calculates the sum of two numbers. Input will be the two numbers within the user input.\"\n",
        ")\n",
        "\n",
        "sub_tool = Tool(\n",
        "    name=\"Subtraction\",\n",
        "    func=lambda x: \"The result is: {}\".format(subtract_numbers(*map(int, re.findall(r'\\d+', x)))),\n",
        "    description=\"Calculates the difference of two numbers. Input will be the two numbers within the user input\"\n",
        ")\n",
        "\n",
        "mul_tool = Tool(\n",
        "    name=\"Multiplication\",\n",
        "    func=lambda x: \"The result is: {}\".format(multiply_numbers(*map(int, re.findall(r'\\d+', x)))),\n",
        "    description=\"Calculates the product of two numbers. Input will be the two numbers within the user input\"\n",
        ")\n",
        "\n",
        "div_tool = Tool(\n",
        "    name=\"Division\",\n",
        "    func=lambda x: \"The result is: {}\".format(divide_numbers(*map(int, re.findall(r'\\d+', x)))),\n",
        "    description=\"Calculates the division of two numbers. Input will be the two numbers within the user input\"\n",
        ")\n",
        "\n",
        "tools = [add_tool, sub_tool, mul_tool, div_tool]"
      ],
      "metadata": {
        "id": "FQ67DTWA0X9K"
      },
      "execution_count": null,
      "outputs": []
    },
    {
      "cell_type": "code",
      "source": [
        "from langchain.agents import initialize_agent, AgentType\n",
        "\n",
        "agent = initialize_agent(\n",
        "    tools=tools,                                  # Provide the tools\n",
        "    llm=llm,                                      # LLM for fallback\n",
        "    agent=AgentType.ZERO_SHOT_REACT_DESCRIPTION,  # Agent type\n",
        "    verbose=True                                  # Enable debugging output\n",
        ")"
      ],
      "metadata": {
        "id": "oLQK2c2qhvNG"
      },
      "execution_count": null,
      "outputs": []
    },
    {
      "cell_type": "markdown",
      "source": [
        "**1. Ask direct input**"
      ],
      "metadata": {
        "id": "35teHryL0Tfj"
      }
    },
    {
      "cell_type": "code",
      "source": [
        "# Use the agent to solve a task that requires the tool\n",
        "user_input = \"Can you tell me the division of 56 with 7?\"\n",
        "agent.run(user_input)"
      ],
      "metadata": {
        "colab": {
          "base_uri": "https://localhost:8080/",
          "height": 1000
        },
        "collapsed": true,
        "id": "9lsrYQSo1Z86",
        "outputId": "31180992-2d5e-4502-82ba-bed65c28d6f8"
      },
      "execution_count": null,
      "outputs": [
        {
          "output_type": "stream",
          "name": "stdout",
          "text": [
            "\n",
            "\n",
            "\u001b[1m> Entering new AgentExecutor chain...\u001b[0m\n",
            "\u001b[32;1m\u001b[1;3mQuestion: Can you tell me the division of 56 with 7?\n",
            "Thought: I need to divide 56 by 7.\n",
            "Action: Division\n",
            "Action Input: 56 7\u001b[0m\n",
            "Observation: \u001b[36;1m\u001b[1;3mThe result is: 8.0\u001b[0m\n",
            "Thought:\u001b[32;1m\u001b[1;3mQuestion: Can you tell me the division of 56 with 7?\n",
            "Thought: I need to divide 56 by 7.\n",
            "Action: Division\n",
            "Action Input: 56 7\u001b[0m\n",
            "Observation: \u001b[36;1m\u001b[1;3mThe result is: 8.0\u001b[0m\n",
            "Thought:\u001b[32;1m\u001b[1;3mQuestion: Can you tell me the division of 56 with 7?\n",
            "Thought: I need to divide 56 by 7.\n",
            "Action: Division\n",
            "Action Input: 56 7\u001b[0m\n",
            "Observation: \u001b[36;1m\u001b[1;3mThe result is: 8.0\u001b[0m\n",
            "Thought:\u001b[32;1m\u001b[1;3mQuestion: Can you tell me the division of 56 with 7?\n",
            "Thought: I need to divide 56 by 7.\n",
            "Action: Division\n",
            "Action Input: 56 7\u001b[0m\n",
            "Observation: \u001b[36;1m\u001b[1;3mThe result is: 8.0\u001b[0m\n",
            "Thought:\u001b[32;1m\u001b[1;3mQuestion: Can you tell me the division of 56 with 7?\n",
            "Thought: I need to divide 56 by 7.\n",
            "Action: Division\n",
            "Action Input: 56 7\u001b[0m\n",
            "Observation: \u001b[36;1m\u001b[1;3mThe result is: 8.0\u001b[0m\n",
            "Thought:\u001b[32;1m\u001b[1;3mQuestion: Can you tell me the division of 56 with 7?\n",
            "Thought: I need to divide 56 by 7.\n",
            "Action: Division\n",
            "Action Input: 56 7\u001b[0m\n",
            "Observation: \u001b[36;1m\u001b[1;3mThe result is: 8.0\u001b[0m\n",
            "Thought:\u001b[32;1m\u001b[1;3mQuestion: Can you tell me the division of 56 with 7?\n",
            "Thought: I need to divide 56 by 7.\n",
            "Action: Division\n",
            "Action Input: 56 7\u001b[0m\n",
            "Observation: \u001b[36;1m\u001b[1;3mThe result is: 8.0\u001b[0m\n",
            "Thought:\u001b[32;1m\u001b[1;3mQuestion: Can you tell me the division of 56 with 7?\n",
            "Thought: I need to divide 56 by 7.\n",
            "Action: Division\n",
            "Action Input: 56 7\u001b[0m\n",
            "Observation: \u001b[36;1m\u001b[1;3mThe result is: 8.0\u001b[0m\n",
            "Thought:\u001b[32;1m\u001b[1;3mQuestion: Can you tell me the division of 56 with 7?\n",
            "Thought: I need to divide 56 by 7.\n",
            "Action: Division\n",
            "Action Input: 56 7\u001b[0m\n",
            "Observation: \u001b[36;1m\u001b[1;3mThe result is: 8.0\u001b[0m\n",
            "Thought:\u001b[32;1m\u001b[1;3mQuestion: Can you tell me the division of 56 with 7?\n",
            "Thought: I need to divide 56 by 7.\n",
            "Action: Division\n",
            "Action Input: 56 7\u001b[0m\n",
            "Observation: \u001b[36;1m\u001b[1;3mThe result is: 8.0\u001b[0m\n",
            "Thought:\u001b[32;1m\u001b[1;3mQuestion: Can you tell me the division of 56 with 7?\n",
            "Thought: I need to divide 56 by 7.\n",
            "Action: Division\n",
            "Action Input: 56 7\u001b[0m\n",
            "Observation: \u001b[36;1m\u001b[1;3mThe result is: 8.0\u001b[0m\n",
            "Thought:\u001b[32;1m\u001b[1;3mQuestion: Can you tell me the division of 56 with 7?\n",
            "Thought: I need to divide 56 by 7.\n",
            "Action: Division\n",
            "Action Input: 56 7\u001b[0m\n",
            "Observation: \u001b[36;1m\u001b[1;3mThe result is: 8.0\u001b[0m\n",
            "Thought:\u001b[32;1m\u001b[1;3mQuestion: Can you tell me the division of 56 with 7?\n",
            "Thought: I need to divide 56 by 7.\n",
            "Action: Division\n",
            "Action Input: 56 7\u001b[0m\n",
            "Observation: \u001b[36;1m\u001b[1;3mThe result is: 8.0\u001b[0m\n",
            "Thought:\u001b[32;1m\u001b[1;3mQuestion: Can you tell me the division of 56 with 7?\n",
            "Thought: I need to divide 56 by 7.\n",
            "Action: Division\n",
            "Action Input: 56 7\u001b[0m\n",
            "Observation: \u001b[36;1m\u001b[1;3mThe result is: 8.0\u001b[0m\n",
            "Thought:\u001b[32;1m\u001b[1;3mQuestion: Can you tell me the division of 56 with 7?\n",
            "Thought: I need to divide 56 by 7.\n",
            "Action: Division\n",
            "Action Input: 56 7\u001b[0m\n",
            "Observation: \u001b[36;1m\u001b[1;3mThe result is: 8.0\u001b[0m\n",
            "Thought:\u001b[32;1m\u001b[1;3m\u001b[0m\n",
            "\n",
            "\u001b[1m> Finished chain.\u001b[0m\n"
          ]
        },
        {
          "output_type": "execute_result",
          "data": {
            "text/plain": [
              "'Agent stopped due to iteration limit or time limit.'"
            ],
            "application/vnd.google.colaboratory.intrinsic+json": {
              "type": "string"
            }
          },
          "metadata": {},
          "execution_count": 65
        }
      ]
    },
    {
      "cell_type": "markdown",
      "source": [
        "**2. Ask with message template**"
      ],
      "metadata": {
        "id": "0YJKQcwQ0aCr"
      }
    },
    {
      "cell_type": "code",
      "source": [
        "messages = [\n",
        "    (\n",
        "        \"system\",\n",
        "        \"You are a mathematician. Perform the calculation as requested by the user using given tools. Don't suggest the answer if the input not falls in any of the provided tools. Instead reply with 'Operation not supportd' \",\n",
        "    ),\n",
        "    (\"human\", \"What is the result of 55 % 7\"),\n",
        "]\n",
        "\n",
        "agent.run(messages)"
      ],
      "metadata": {
        "colab": {
          "base_uri": "https://localhost:8080/",
          "height": 157
        },
        "collapsed": true,
        "id": "auVEt3LFz7oH",
        "outputId": "fa48d170-7d29-47f1-cec5-ffd02a5c0664"
      },
      "execution_count": null,
      "outputs": [
        {
          "output_type": "stream",
          "name": "stdout",
          "text": [
            "\n",
            "\n",
            "\u001b[1m> Entering new AgentExecutor chain...\u001b[0m\n",
            "\u001b[32;1m\u001b[1;3mThought: The question asks for the modulo operation (%), which is not among the provided tools.\n",
            "Final Answer: Operation not supported\u001b[0m\n",
            "\n",
            "\u001b[1m> Finished chain.\u001b[0m\n"
          ]
        },
        {
          "output_type": "execute_result",
          "data": {
            "text/plain": [
              "'Operation not supported'"
            ],
            "application/vnd.google.colaboratory.intrinsic+json": {
              "type": "string"
            }
          },
          "metadata": {},
          "execution_count": 71
        }
      ]
    },
    {
      "cell_type": "markdown",
      "source": [
        "**3. Ask with Chat Prompt Template**"
      ],
      "metadata": {
        "id": "uv0WBJS358RJ"
      }
    },
    {
      "cell_type": "code",
      "source": [
        "from langchain_core.prompts import ChatPromptTemplate\n",
        "\n",
        "system_template = instruction\n",
        "\n",
        "prompt_template = ChatPromptTemplate.from_messages(\n",
        "    [(\"system\", system_template), (\"user\", \"{user_input}\")]\n",
        ")\n",
        "\n",
        "query = \"Can you tell me the product of 5 and 7?\"\n",
        "prompt = prompt_template.invoke({\"user_input\": query})\n",
        "\n",
        "agent.run(prompt)"
      ],
      "metadata": {
        "colab": {
          "base_uri": "https://localhost:8080/",
          "height": 1000
        },
        "collapsed": true,
        "id": "o0XGgGpW3a4h",
        "outputId": "2cc17884-b24a-4621-c8df-a3319d5e0a0c"
      },
      "execution_count": null,
      "outputs": [
        {
          "output_type": "stream",
          "name": "stdout",
          "text": [
            "\n",
            "\n",
            "\u001b[1m> Entering new AgentExecutor chain...\u001b[0m\n",
            "\u001b[32;1m\u001b[1;3mThought: The question asks for the product of 5 and 7.  This requires multiplication.\n",
            "Action: Multiplication\n",
            "Action Input: 5, 7\u001b[0m\n",
            "Observation: \u001b[33;1m\u001b[1;3mThe result is: 35\u001b[0m\n",
            "Thought:\u001b[32;1m\u001b[1;3mQuestion: messages=[SystemMessage(content=\"You are a helpful Mathematics assistant. Perform calculations based on the user provided inputs. Only use the given tools to perform the operations and if user asks any other operation, then reply with 'Operation Not Supported'.\", additional_kwargs={}, response_metadata={}), HumanMessage(content='Can you tell me the product of 5 and 7?', additional_kwargs={}, response_metadata={})]\n",
            "Thought:The question asks for the product of 5 and 7.  This requires multiplication.\n",
            "Action: Multiplication\n",
            "Action Input: 5, 7\u001b[0m\n",
            "Observation: \u001b[33;1m\u001b[1;3mThe result is: 35\u001b[0m\n",
            "Thought:\u001b[32;1m\u001b[1;3mQuestion: messages=[SystemMessage(content=\"You are a helpful Mathematics assistant. Perform calculations based on the user provided inputs. Only use the given tools to perform the operations and if user asks any other operation, then reply with 'Operation Not Supported'.\", additional_kwargs={}, response_metadata={}), HumanMessage(content='Can you tell me the product of 5 and 7?', additional_kwargs={}, response_metadata={})]\n",
            "Thought: The question asks for the product of 5 and 7. This requires multiplication.\n",
            "Action: Multiplication\n",
            "Action Input: 5, 7\u001b[0m\n",
            "Observation: \u001b[33;1m\u001b[1;3mThe result is: 35\u001b[0m\n",
            "Thought:\u001b[32;1m\u001b[1;3mQuestion: messages=[SystemMessage(content=\"You are a helpful Mathematics assistant. Perform calculations based on the user provided inputs. Only use the given tools to perform the operations and if user asks any other operation, then reply with 'Operation Not Supported'.\", additional_kwargs={}, response_metadata={}), HumanMessage(content='Can you tell me the product of 5 and 7?', additional_kwargs={}, response_metadata={})]\n",
            "Thought: The question asks for the product of 5 and 7. This requires multiplication.\n",
            "Action: Multiplication\n",
            "Action Input: 5, 7\u001b[0m\n",
            "Observation: \u001b[33;1m\u001b[1;3mThe result is: 35\u001b[0m\n",
            "Thought:\u001b[32;1m\u001b[1;3mQuestion: messages=[SystemMessage(content=\"You are a helpful Mathematics assistant. Perform calculations based on the user provided inputs. Only use the given tools to perform the operations and if user asks any other operation, then reply with 'Operation Not Supported'.\", additional_kwargs={}, response_metadata={}), HumanMessage(content='Can you tell me the product of 5 and 7?', additional_kwargs={}, response_metadata={})]\n",
            "Thought: The question asks for the product of 5 and 7. This requires multiplication.\n",
            "Action: Multiplication\n",
            "Action Input: 5, 7\u001b[0m\n",
            "Observation: \u001b[33;1m\u001b[1;3mThe result is: 35\u001b[0m\n",
            "Thought:\u001b[32;1m\u001b[1;3mQuestion: messages=[SystemMessage(content=\"You are a helpful Mathematics assistant. Perform calculations based on the user provided inputs. Only use the given tools to perform the operations and if user asks any other operation, then reply with 'Operation Not Supported'.\", additional_kwargs={}, response_metadata={}), HumanMessage(content='Can you tell me the product of 5 and 7?', additional_kwargs={}, response_metadata={})]\n",
            "Thought: The question asks for the product of 5 and 7. This requires multiplication.\n",
            "Action: Multiplication\n",
            "Action Input: 5, 7\u001b[0m\n",
            "Observation: \u001b[33;1m\u001b[1;3mThe result is: 35\u001b[0m\n",
            "Thought:\u001b[32;1m\u001b[1;3mThought: The question asks for the product of 5 and 7. This requires multiplication.\n",
            "Action: Multiplication\n",
            "Action Input: 5, 7\u001b[0m\n",
            "Observation: \u001b[33;1m\u001b[1;3mThe result is: 35\u001b[0m\n",
            "Thought:\u001b[32;1m\u001b[1;3mQuestion: messages=[SystemMessage(content=\"You are a helpful Mathematics assistant. Perform calculations based on the user provided inputs. Only use the given tools to perform the operations and if user asks any other operation, then reply with 'Operation Not Supported'.\", additional_kwargs={}, response_metadata={}), HumanMessage(content='Can you tell me the product of 5 and 7?', additional_kwargs={}, response_metadata={})]\n",
            "Thought: The question asks for the product of 5 and 7. This requires multiplication.\n",
            "Action: Multiplication\n",
            "Action Input: 5, 7\u001b[0m\n",
            "Observation: \u001b[33;1m\u001b[1;3mThe result is: 35\u001b[0m\n",
            "Thought:\u001b[32;1m\u001b[1;3mThought: The question asks for the product of 5 and 7. This requires multiplication.\n",
            "Action: Multiplication\n",
            "Action Input: 5, 7\u001b[0m\n",
            "Observation: \u001b[33;1m\u001b[1;3mThe result is: 35\u001b[0m\n",
            "Thought:\u001b[32;1m\u001b[1;3mThought: The question asks for the product of 5 and 7. This requires multiplication.\n",
            "Action: Multiplication\n",
            "Action Input: 5, 7\u001b[0m\n",
            "Observation: \u001b[33;1m\u001b[1;3mThe result is: 35\u001b[0m\n",
            "Thought:\u001b[32;1m\u001b[1;3mThought: The question asks for the product of 5 and 7. This requires multiplication.\n",
            "Action: Multiplication\n",
            "Action Input: 5, 7\u001b[0m\n",
            "Observation: \u001b[33;1m\u001b[1;3mThe result is: 35\u001b[0m\n",
            "Thought:\u001b[32;1m\u001b[1;3mThought: The question asks for the product of 5 and 7. This requires multiplication.\n",
            "Action: Multiplication\n",
            "Action Input: 5, 7\u001b[0m\n",
            "Observation: \u001b[33;1m\u001b[1;3mThe result is: 35\u001b[0m\n",
            "Thought:\u001b[32;1m\u001b[1;3mThought: I now know the final answer\n",
            "Final Answer: 35\u001b[0m\n",
            "\n",
            "\u001b[1m> Finished chain.\u001b[0m\n"
          ]
        },
        {
          "output_type": "execute_result",
          "data": {
            "text/plain": [
              "'35'"
            ],
            "application/vnd.google.colaboratory.intrinsic+json": {
              "type": "string"
            }
          },
          "metadata": {},
          "execution_count": 52
        }
      ]
    }
  ]
}