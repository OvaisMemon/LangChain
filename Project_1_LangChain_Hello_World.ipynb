{
  "nbformat": 4,
  "nbformat_minor": 0,
  "metadata": {
    "colab": {
      "provenance": [],
      "mount_file_id": "1mjIlCQSvt_vs3v7OJKGGGJduShoCPBPI",
      "authorship_tag": "ABX9TyNybQcbgdYaNiA7fAtUi+KK",
      "include_colab_link": true
    },
    "kernelspec": {
      "name": "python3",
      "display_name": "Python 3"
    },
    "language_info": {
      "name": "python"
    }
  },
  "cells": [
    {
      "cell_type": "markdown",
      "metadata": {
        "id": "view-in-github",
        "colab_type": "text"
      },
      "source": [
        "<a href=\"https://colab.research.google.com/github/OvaisMemon/LangChain/blob/main/Project_1_LangChain_Hello_World.ipynb\" target=\"_parent\"><img src=\"https://colab.research.google.com/assets/colab-badge.svg\" alt=\"Open In Colab\"/></a>"
      ]
    },
    {
      "cell_type": "code",
      "source": [
        "!pip install -Uq langchain langchain-google-genai"
      ],
      "metadata": {
        "colab": {
          "base_uri": "https://localhost:8080/"
        },
        "collapsed": true,
        "id": "d_ggMFKU4t2e",
        "outputId": "fa89eea8-5bd0-410c-b906-648a4d5ab92a"
      },
      "execution_count": null,
      "outputs": [
        {
          "output_type": "stream",
          "name": "stdout",
          "text": [
            "\u001b[?25l   \u001b[90m━━━━━━━━━━━━━━━━━━━━━━━━━━━━━━━━━━━━━━━━\u001b[0m \u001b[32m0.0/1.0 MB\u001b[0m \u001b[31m?\u001b[0m eta \u001b[36m-:--:--\u001b[0m\r\u001b[2K   \u001b[91m━━━━━━━━━━━━━━━━━━━━━━━━━━━━━━━\u001b[0m\u001b[90m╺\u001b[0m\u001b[90m━━━━━━━━\u001b[0m \u001b[32m0.8/1.0 MB\u001b[0m \u001b[31m23.6 MB/s\u001b[0m eta \u001b[36m0:00:01\u001b[0m\r\u001b[2K   \u001b[90m━━━━━━━━━━━━━━━━━━━━━━━━━━━━━━━━━━━━━━━━\u001b[0m \u001b[32m1.0/1.0 MB\u001b[0m \u001b[31m18.1 MB/s\u001b[0m eta \u001b[36m0:00:00\u001b[0m\n",
            "\u001b[?25h\u001b[?25l   \u001b[90m━━━━━━━━━━━━━━━━━━━━━━━━━━━━━━━━━━━━━━━━\u001b[0m \u001b[32m0.0/41.3 kB\u001b[0m \u001b[31m?\u001b[0m eta \u001b[36m-:--:--\u001b[0m\r\u001b[2K   \u001b[90m━━━━━━━━━━━━━━━━━━━━━━━━━━━━━━━━━━━━━━━━\u001b[0m \u001b[32m41.3/41.3 kB\u001b[0m \u001b[31m2.6 MB/s\u001b[0m eta \u001b[36m0:00:00\u001b[0m\n",
            "\u001b[?25h\u001b[?25l   \u001b[90m━━━━━━━━━━━━━━━━━━━━━━━━━━━━━━━━━━━━━━━━\u001b[0m \u001b[32m0.0/411.6 kB\u001b[0m \u001b[31m?\u001b[0m eta \u001b[36m-:--:--\u001b[0m\r\u001b[2K   \u001b[90m━━━━━━━━━━━━━━━━━━━━━━━━━━━━━━━━━━━━━━━━\u001b[0m \u001b[32m411.6/411.6 kB\u001b[0m \u001b[31m25.5 MB/s\u001b[0m eta \u001b[36m0:00:00\u001b[0m\n",
            "\u001b[?25h"
          ]
        }
      ]
    },
    {
      "cell_type": "code",
      "source": [
        "import langchain_google_genai as genai"
      ],
      "metadata": {
        "id": "Bo1BhO7D565s"
      },
      "execution_count": null,
      "outputs": []
    },
    {
      "cell_type": "code",
      "source": [
        "from langchain_google_genai import ChatGoogleGenerativeAI"
      ],
      "metadata": {
        "id": "UDFL1wQm6e6J"
      },
      "execution_count": null,
      "outputs": []
    },
    {
      "cell_type": "code",
      "source": [
        "from google.colab import userdata"
      ],
      "metadata": {
        "id": "5M9zKwXM7R6D"
      },
      "execution_count": null,
      "outputs": []
    },
    {
      "cell_type": "code",
      "source": [
        "GOOGLE_API_KEY = userdata.get('GEMINI_API_KEY')"
      ],
      "metadata": {
        "id": "KHVo8IEn7Z78"
      },
      "execution_count": null,
      "outputs": []
    },
    {
      "cell_type": "code",
      "source": [
        "llm_model : ChatGoogleGenerativeAI = ChatGoogleGenerativeAI(model = \"gemini-2.0-flash-exp\", api_key = GOOGLE_API_KEY)"
      ],
      "metadata": {
        "id": "sg0CPlxb7mIp"
      },
      "execution_count": null,
      "outputs": []
    },
    {
      "cell_type": "code",
      "source": [
        "response = llm_model.invoke(\"Why is the dollar rate stable in Pakistan for the last 2 years\")\n",
        "print(response.content)"
      ],
      "metadata": {
        "colab": {
          "base_uri": "https://localhost:8080/"
        },
        "id": "Jf1RKGtI8AhZ",
        "outputId": "67b9bacf-446c-469c-ad2c-65d9a1dbb130"
      },
      "execution_count": null,
      "outputs": [
        {
          "output_type": "stream",
          "name": "stdout",
          "text": [
            "The idea that the Pakistani Rupee (PKR) to US Dollar (USD) exchange rate has been stable for the last two years isn't entirely accurate. While there might have been periods of relative stability, there have also been significant fluctuations. Here's a breakdown of why the perception of stability might exist, and the factors at play:\n",
            "\n",
            "**Why the Perception of Stability Might Exist (and Why it's Not Entirely True):**\n",
            "\n",
            "* **Government Intervention:** The State Bank of Pakistan (SBP) has frequently intervened in the foreign exchange market to manage the exchange rate. This intervention, through buying and selling of USD, can create an artificial sense of stability. However, this is not a sustainable long-term solution.\n",
            "* **Administrative Measures:** The government has implemented various administrative measures to control imports and restrict access to foreign currency. These measures can temporarily stabilize the exchange rate but often come at the cost of economic activity and create distortions in the market.\n",
            "* **Periods of Relative Calm:** There have been periods where the PKR/USD rate has remained relatively stable, often due to a combination of factors mentioned above or temporary inflows of foreign currency. These periods might be perceived as overall stability.\n",
            "* **Focus on Specific Timeframes:** Depending on the exact two-year period you are looking at, the data might show a certain level of stability. However, zooming out or looking at shorter intervals reveals significant fluctuations.\n",
            "\n",
            "**Why the Exchange Rate is NOT Truly Stable (and Has Fluctuated):**\n",
            "\n",
            "* **Balance of Payments Issues:** Pakistan has historically struggled with a persistent trade deficit, meaning it imports more than it exports. This puts downward pressure on the PKR as more foreign currency is needed to pay for imports.\n",
            "* **Low Foreign Exchange Reserves:** Pakistan's foreign exchange reserves have often been low, making the country vulnerable to currency depreciation. This limits the SBP's ability to effectively intervene in the market.\n",
            "* **Political and Economic Instability:** Political uncertainty and economic instability can erode investor confidence, leading to capital flight and further pressure on the PKR.\n",
            "* **Inflation:** High inflation in Pakistan erodes the purchasing power of the PKR, making it less valuable relative to other currencies.\n",
            "* **International Monetary Fund (IMF) Programs:** While IMF programs can provide financial assistance, they often come with conditions that can impact the exchange rate. Negotiations and implementation of IMF programs can create volatility in the currency market.\n",
            "* **Speculation:** Market speculation can also influence exchange rate movements. If traders anticipate a depreciation, they might buy USD, further driving up its price.\n",
            "* **Global Factors:** Changes in global interest rates, commodity prices, and geopolitical events can also affect the PKR/USD exchange rate.\n",
            "\n",
            "**In Summary:**\n",
            "\n",
            "The perception of a stable PKR/USD exchange rate over the last two years is a simplification. While there have been periods of relative calm, these were often achieved through government intervention and administrative measures that are not sustainable. The underlying economic fundamentals of Pakistan, including balance of payments issues, low reserves, inflation, and political instability, continue to put pressure on the PKR, leading to fluctuations.\n",
            "\n",
            "**It is crucial to remember that:**\n",
            "\n",
            "* **Artificial stability is not sustainable.** It often masks underlying economic problems and can lead to sharper corrections later.\n",
            "* **Market forces will eventually prevail.** Government intervention can only temporarily delay the inevitable adjustment of the exchange rate.\n",
            "* **A truly stable exchange rate requires strong economic fundamentals.** This includes increasing exports, managing inflation, attracting investment, and maintaining political stability.\n",
            "\n",
            "Therefore, it is more accurate to say that the PKR/USD exchange rate has experienced periods of relative stability *amidst* larger fluctuations and ongoing pressures, rather than being consistently stable for the past two years.\n",
            "\n"
          ]
        }
      ]
    }
  ]
}