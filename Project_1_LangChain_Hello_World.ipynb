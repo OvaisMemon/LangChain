{
  "nbformat": 4,
  "nbformat_minor": 0,
  "metadata": {
    "colab": {
      "provenance": [],
      "mount_file_id": "1mjIlCQSvt_vs3v7OJKGGGJduShoCPBPI",
      "authorship_tag": "ABX9TyNKazPP7P+5utd3Yb3Hh6n0",
      "include_colab_link": true
    },
    "kernelspec": {
      "name": "python3",
      "display_name": "Python 3"
    },
    "language_info": {
      "name": "python"
    }
  },
  "cells": [
    {
      "cell_type": "markdown",
      "metadata": {
        "id": "view-in-github",
        "colab_type": "text"
      },
      "source": [
        "<a href=\"https://colab.research.google.com/github/OvaisMemon/LangChain/blob/main/Project_1_LangChain_Hello_World.ipynb\" target=\"_parent\"><img src=\"https://colab.research.google.com/assets/colab-badge.svg\" alt=\"Open In Colab\"/></a>"
      ]
    },
    {
      "cell_type": "markdown",
      "source": [
        "**Installing LangChain and other necessary packages**"
      ],
      "metadata": {
        "id": "aW_ADNXYbjdL"
      }
    },
    {
      "cell_type": "code",
      "source": [
        "!pip install -Uq langchain langchain-google-genai"
      ],
      "metadata": {
        "colab": {
          "base_uri": "https://localhost:8080/"
        },
        "collapsed": true,
        "id": "d_ggMFKU4t2e",
        "outputId": "c39372e5-a43b-45a9-fc99-da1f1bbecd55"
      },
      "execution_count": 2,
      "outputs": [
        {
          "output_type": "stream",
          "name": "stdout",
          "text": [
            "\u001b[?25l   \u001b[90m━━━━━━━━━━━━━━━━━━━━━━━━━━━━━━━━━━━━━━━━\u001b[0m \u001b[32m0.0/1.0 MB\u001b[0m \u001b[31m?\u001b[0m eta \u001b[36m-:--:--\u001b[0m\r\u001b[2K   \u001b[91m━━━━━━━━━━━━━━━━━━━━━━━━━━━━━━━━━\u001b[0m\u001b[91m╸\u001b[0m\u001b[90m━━━━━━\u001b[0m \u001b[32m0.8/1.0 MB\u001b[0m \u001b[31m25.4 MB/s\u001b[0m eta \u001b[36m0:00:01\u001b[0m\r\u001b[2K   \u001b[90m━━━━━━━━━━━━━━━━━━━━━━━━━━━━━━━━━━━━━━━━\u001b[0m \u001b[32m1.0/1.0 MB\u001b[0m \u001b[31m18.8 MB/s\u001b[0m eta \u001b[36m0:00:00\u001b[0m\n",
            "\u001b[?25h\u001b[?25l   \u001b[90m━━━━━━━━━━━━━━━━━━━━━━━━━━━━━━━━━━━━━━━━\u001b[0m \u001b[32m0.0/41.3 kB\u001b[0m \u001b[31m?\u001b[0m eta \u001b[36m-:--:--\u001b[0m\r\u001b[2K   \u001b[90m━━━━━━━━━━━━━━━━━━━━━━━━━━━━━━━━━━━━━━━━\u001b[0m \u001b[32m41.3/41.3 kB\u001b[0m \u001b[31m2.8 MB/s\u001b[0m eta \u001b[36m0:00:00\u001b[0m\n",
            "\u001b[?25h\u001b[?25l   \u001b[90m━━━━━━━━━━━━━━━━━━━━━━━━━━━━━━━━━━━━━━━━\u001b[0m \u001b[32m0.0/411.6 kB\u001b[0m \u001b[31m?\u001b[0m eta \u001b[36m-:--:--\u001b[0m\r\u001b[2K   \u001b[90m━━━━━━━━━━━━━━━━━━━━━━━━━━━━━━━━━━━━━━━━\u001b[0m \u001b[32m411.6/411.6 kB\u001b[0m \u001b[31m26.9 MB/s\u001b[0m eta \u001b[36m0:00:00\u001b[0m\n",
            "\u001b[?25h"
          ]
        }
      ]
    },
    {
      "cell_type": "markdown",
      "source": [
        "**Referencing necessary packages**"
      ],
      "metadata": {
        "id": "v2uNJ41Xbpt6"
      }
    },
    {
      "cell_type": "code",
      "source": [
        "import langchain_google_genai as genai\n",
        "from langchain_google_genai import ChatGoogleGenerativeAI\n",
        "from google.colab import userdata\n",
        "\n",
        "GOOGLE_API_KEY = userdata.get('GEMINI_API_KEY')"
      ],
      "metadata": {
        "id": "Bo1BhO7D565s"
      },
      "execution_count": 3,
      "outputs": []
    },
    {
      "cell_type": "markdown",
      "source": [
        "**Defining LLM Model**"
      ],
      "metadata": {
        "id": "s2_1jyn5h1K5"
      }
    },
    {
      "cell_type": "code",
      "source": [
        "llm_model : ChatGoogleGenerativeAI = ChatGoogleGenerativeAI(model = \"gemini-2.0-flash-exp\", api_key = GOOGLE_API_KEY)"
      ],
      "metadata": {
        "id": "Izc9JxNpVgHO"
      },
      "execution_count": 6,
      "outputs": []
    },
    {
      "cell_type": "markdown",
      "source": [
        "**1. Invoking LLM directly with a question**"
      ],
      "metadata": {
        "id": "6r8rbhKab5ZA"
      }
    },
    {
      "cell_type": "code",
      "source": [
        "response = llm_model.invoke(\"Why is the dollar rate stable in Pakistan for the last 2 years\")\n",
        "print(response.content)"
      ],
      "metadata": {
        "id": "KHVo8IEn7Z78",
        "collapsed": true,
        "colab": {
          "base_uri": "https://localhost:8080/"
        },
        "outputId": "816b3c0d-cf84-4757-907d-2035ede1ef4a"
      },
      "execution_count": 10,
      "outputs": [
        {
          "output_type": "stream",
          "name": "stdout",
          "text": [
            "The claim that the dollar rate has been stable in Pakistan for the last two years is **not entirely accurate**. While there have been periods of relative stability, the Pakistani Rupee (PKR) has experienced significant fluctuations against the US Dollar (USD) over the past two years. \n",
            "\n",
            "Here's a breakdown of why the perception of stability might exist, along with the underlying factors at play:\n",
            "\n",
            "**Why the Perception of Stability Might Exist (and why it's misleading):**\n",
            "\n",
            "* **Periods of Managed Exchange Rate:** The State Bank of Pakistan (SBP) has intervened in the foreign exchange market to manage the PKR's value. This intervention, often through selling dollars from its reserves, can create periods where the exchange rate appears stable. However, this is not a natural market-driven stability and is often unsustainable.\n",
            "* **Artificial Stability:** These interventions can create an artificial sense of stability, masking underlying economic pressures. When these pressures become too strong, the exchange rate often experiences sharp adjustments.\n",
            "* **Comparison to Volatility:** Compared to periods of extreme volatility, some phases might appear relatively stable. However, this doesn't mean the PKR hasn't depreciated.\n",
            "* **Focus on Short-Term Trends:** People might focus on smaller timeframes and observe stability within those, missing the broader trend of depreciation.\n",
            "\n",
            "**Why the PKR Has Fluctuated (and Generally Depreciated) Over the Last Two Years:**\n",
            "\n",
            "Here are some key factors that have contributed to the PKR's volatility and general depreciation:\n",
            "\n",
            "* **Current Account Deficit:** Pakistan has historically struggled with a significant current account deficit (importing more than it exports). This puts downward pressure on the PKR as more dollars are needed to pay for imports than are earned through exports.\n",
            "* **Low Foreign Exchange Reserves:** Pakistan's foreign exchange reserves have been relatively low, making it vulnerable to currency fluctuations. This limits the SBP's ability to intervene and stabilize the PKR.\n",
            "* **Inflation:** High inflation in Pakistan erodes the value of the PKR, making it less attractive to hold compared to other currencies.\n",
            "* **Political and Economic Uncertainty:** Political instability and economic uncertainty can deter foreign investment and further weaken the PKR.\n",
            "* **Debt Burden:** Pakistan has a large external debt burden, which requires significant dollar payments, putting pressure on its foreign exchange reserves and the PKR.\n",
            "* **IMF Programs:** While IMF programs can provide financial support, the conditions attached often include currency devaluation to improve competitiveness, which can lead to short-term depreciation.\n",
            "* **Import Restrictions:** The government has often resorted to import restrictions to try and manage the trade deficit. While this can help in the short term, it can also hurt economic growth and create distortions.\n",
            "* **Speculation and Capital Flight:** Speculative trading and capital flight can further destabilize the PKR.\n",
            "\n",
            "**In Summary:**\n",
            "\n",
            "The perception of a stable dollar rate in Pakistan over the last two years is misleading. While there might have been periods of relative stability due to central bank intervention, the underlying economic fundamentals have consistently put downward pressure on the PKR. The PKR has generally depreciated against the USD due to factors like a persistent current account deficit, low foreign exchange reserves, inflation, and political uncertainty.\n",
            "\n",
            "**It's important to consult reliable financial news sources and data for accurate information on the PKR/USD exchange rate.** The situation is dynamic and subject to change based on evolving economic conditions and government policies.\n",
            "\n"
          ]
        }
      ]
    },
    {
      "cell_type": "markdown",
      "source": [
        "**2. Invoking LLM with a message template**"
      ],
      "metadata": {
        "id": "FFv19olOcXfw"
      }
    },
    {
      "cell_type": "code",
      "source": [
        "messages = [\n",
        "    (\n",
        "        \"system\",\n",
        "        \"You are a history researcher.\",\n",
        "    ),\n",
        "    (\"human\", \"Who is Quaid-e-Azam\"),\n",
        "]\n",
        "response = llm_model.invoke(messages)\n",
        "print(response.content)"
      ],
      "metadata": {
        "collapsed": true,
        "colab": {
          "base_uri": "https://localhost:8080/"
        },
        "id": "ODkoyPyccE-v",
        "outputId": "44f55de0-c0a3-4034-f228-51bc1ba192e1"
      },
      "execution_count": 11,
      "outputs": [
        {
          "output_type": "stream",
          "name": "stdout",
          "text": [
            "Okay, let's delve into the life and significance of Quaid-e-Azam.\n",
            "\n",
            "**Quaid-e-Azam**, meaning \"Great Leader\" in Urdu, is the title most famously associated with **Muhammad Ali Jinnah**. He was a pivotal figure in the history of the Indian subcontinent and is revered as the founder of Pakistan. \n",
            "\n",
            "Here's a breakdown of his life and contributions:\n",
            "\n",
            "**Early Life and Education:**\n",
            "\n",
            "*   **Birth:** Born on December 25, 1876, in Karachi (then part of British India).\n",
            "*   **Family:** He belonged to a wealthy Khoja merchant family.\n",
            "*   **Education:** He received his early education in Karachi and later in Bombay. He then went to England to study law at Lincoln's Inn. He was called to the bar in 1896.\n",
            "\n",
            "**Early Political Career:**\n",
            "\n",
            "*   **Indian National Congress:** Jinnah initially joined the Indian National Congress in 1906, advocating for Hindu-Muslim unity and Indian self-rule. He was a prominent figure in the moderate wing of the Congress.\n",
            "*   **Gokhale's Influence:** He admired Gopal Krishna Gokhale, a leading moderate Congress leader, and was influenced by his ideals of constitutional politics.\n",
            "*   **Ambassador of Hindu-Muslim Unity:** Jinnah worked tirelessly to bridge the gap between Hindus and Muslims, earning the moniker \"Ambassador of Hindu-Muslim Unity.\" He played a key role in the Lucknow Pact of 1916, a significant agreement between the Congress and the Muslim League.\n",
            "\n",
            "**Shift Towards Muslim League and the Demand for Pakistan:**\n",
            "\n",
            "*   **Disillusionment:** Over time, Jinnah became disillusioned with the Congress, particularly with the rise of leaders like Mahatma Gandhi and their methods of mass agitation. He felt that the Congress was becoming increasingly Hindu-dominated and was not adequately addressing the concerns of the Muslim minority.\n",
            "*   **Joining the Muslim League:** He joined the All-India Muslim League in 1913, which had been formed in 1906 to safeguard the political rights of Muslims in British India.\n",
            "*   **The Lahore Resolution (1940):** A turning point came with the passage of the Lahore Resolution, also known as the Pakistan Resolution, in 1940. It called for the creation of separate, independent states for Muslims in the northwestern and eastern parts of India.\n",
            "*   **Two-Nation Theory:** Jinnah became a staunch proponent of the \"Two-Nation Theory,\" which argued that Hindus and Muslims were two distinct nations with separate identities and interests, and therefore, should have their own independent states.\n",
            "\n",
            "**The Struggle for Pakistan:**\n",
            "\n",
            "*   **Leadership of the Muslim League:** Jinnah revitalized the Muslim League, transforming it into a powerful political force representing the aspirations of Indian Muslims.\n",
            "*   **Negotiations with the British:** He engaged in complex negotiations with the British government and the Congress leaders to achieve the demand for Pakistan.\n",
            "*   **Direct Action Day (1946):** In 1946, the Muslim League launched \"Direct Action Day\" to press for the creation of Pakistan, which led to widespread communal violence.\n",
            "*   **Partition of India (1947):** Ultimately, the British government decided to partition India, leading to the creation of two independent nations: India and Pakistan, on August 14 and 15, 1947, respectively.\n",
            "\n",
            "**Governor-General of Pakistan:**\n",
            "\n",
            "*   **First Governor-General:** Jinnah became the first Governor-General of Pakistan. He played a crucial role in the initial years of the new nation, facing immense challenges, including the influx of refugees and the establishment of a new government.\n",
            "*   **Vision for Pakistan:** He envisioned Pakistan as a modern, democratic, and progressive nation where all citizens, regardless of their religion, would have equal rights. He emphasized tolerance and social justice.\n",
            "*   **Death:** He died on September 11, 1948, in Karachi, less than 14 months after the creation of Pakistan.\n",
            "\n",
            "**Legacy and Significance:**\n",
            "\n",
            "*   **Founder of Pakistan:** He is revered in Pakistan as the \"Father of the Nation\" and is considered the founder and architect of the country. His image is ubiquitous and he remains the most influential figure in Pakistan's history.\n",
            "*   **Complex Historical Figure:** His legacy remains complex. While he is celebrated in Pakistan, some historians and critics argue that his role in the partition of India led to immense suffering and violence.\n",
            "*   **Symbol of Leadership:** Regardless of different perspectives, Jinnah is recognized as a charismatic and astute political leader who was able to mobilize the Muslim population of India and achieve their goal of a separate nation.\n",
            "\n",
            "**In Conclusion:**\n",
            "\n",
            "Quaid-e-Azam Muhammad Ali Jinnah was a towering figure in the history of the Indian subcontinent. From his early days as a proponent of Hindu-Muslim unity to his later advocacy for Pakistan, his journey reflects the complex political landscape of British India. He remains a figure of immense importance and his legacy continues to be debated and analyzed.\n",
            "\n",
            "Is there anything specific you'd like to explore further about Quaid-e-Azam, or a particular aspect of his life or political career that interests you? I'm happy to delve deeper into any specific area.\n",
            "\n"
          ]
        }
      ]
    },
    {
      "cell_type": "markdown",
      "source": [
        "**3. Invoking LLM with a prompt template and chaining**"
      ],
      "metadata": {
        "id": "f7FJ3vxEhTFa"
      }
    },
    {
      "cell_type": "code",
      "source": [
        "from langchain.prompts import PromptTemplate\n",
        "from langchain.chains import LLMChain\n",
        "\n",
        "prompt_template = PromptTemplate(\n",
        "    input_variables=[\"question\"],\n",
        "    template=\"You are a teaching assistant. Answer the following question: {question}\"\n",
        ")\n",
        "\n",
        "# Create the LLM chain\n",
        "chain = LLMChain(llm=llm_model, prompt=prompt_template)\n",
        "\n",
        "# Run the chain with a sample question\n",
        "question = \"How can you define Agentic AI?\"\n",
        "chain = prompt_template | llm_model\n",
        "\n",
        "response = chain.invoke({\"question\": question})\n",
        "\n",
        "print(\"Answer:\", response.content)"
      ],
      "metadata": {
        "collapsed": true,
        "colab": {
          "base_uri": "https://localhost:8080/"
        },
        "id": "TimVOjNGg_K8",
        "outputId": "de4e0ed6-8557-434e-e244-7fd4d789e671"
      },
      "execution_count": 16,
      "outputs": [
        {
          "output_type": "stream",
          "name": "stdout",
          "text": [
            "Answer: Okay, let's talk about Agentic AI. It's a pretty exciting area, and it's helpful to break it down into understandable parts.\n",
            "\n",
            "**Think of it this way: Traditional AI is often reactive, while Agentic AI is proactive and goal-oriented.**\n",
            "\n",
            "Here's a more formal definition, along with key concepts:\n",
            "\n",
            "**Agentic AI can be defined as artificial intelligence systems designed to perceive their environment, reason, plan, and act autonomously to achieve specific goals or tasks. They are not just passive processors of data; they are active agents that can make decisions and take actions.**\n",
            "\n",
            "Let's unpack that definition:\n",
            "\n",
            "* **Perceive their Environment:** Like humans, Agentic AI needs to understand the world around it. This involves:\n",
            "    * **Sensory Input:** Receiving data from various sources (text, images, audio, sensor data, etc.).\n",
            "    * **Interpretation:** Processing and making sense of that input.\n",
            "    * **Context Awareness:** Understanding the situation and how it relates to its goals.\n",
            "* **Reason:** Agentic AI is not just about pattern matching. It needs to:\n",
            "    * **Process Information:** Analyze data and identify relevant information.\n",
            "    * **Infer and Deduce:** Draw conclusions based on available information.\n",
            "    * **Solve Problems:** Find solutions to challenges that arise during the pursuit of its goals.\n",
            "* **Plan:**  A key element of agentic behavior is the ability to strategize and plan ahead. This includes:\n",
            "    * **Goal Definition:** Clearly understanding what it needs to achieve.\n",
            "    * **Task Decomposition:** Breaking down complex goals into smaller, manageable subtasks.\n",
            "    * **Action Sequencing:** Determining the order in which to perform these subtasks.\n",
            "* **Act Autonomously:** This is where the \"agent\" part really shines. Agentic AI can:\n",
            "    * **Make Decisions:** Choose actions based on its reasoning and planning.\n",
            "    * **Execute Actions:** Carry out the planned steps to achieve its goals.\n",
            "    * **Learn and Adapt:** Improve its performance over time through experience and feedback.\n",
            "\n",
            "**Key Characteristics that Differentiate Agentic AI from Traditional AI:**\n",
            "\n",
            "* **Autonomy:** It can operate with minimal human intervention, making its own decisions.\n",
            "* **Goal-Oriented:** It's driven by specific objectives and works towards achieving them.\n",
            "* **Proactive:** It initiates actions rather than just reacting to inputs.\n",
            "* **Adaptability:** It can learn and adjust its strategies as the environment changes.\n",
            "* **Interaction with the Environment:** It actively engages with and affects its surroundings.\n",
            "\n",
            "**Examples of Agentic AI (though still evolving):**\n",
            "\n",
            "* **Autonomous Driving Systems:** These need to perceive the road, plan routes, and make real-time driving decisions.\n",
            "* **Robotics:** Robots performing complex tasks in manufacturing or healthcare, making their own decisions based on their environment.\n",
            "* **Personal Assistants:**  Advanced assistants that can not only answer questions but also proactively manage your schedule, book appointments, or research information.\n",
            "* **Game-Playing AI:**  AI that can strategize and adapt its gameplay in complex games, not just follow pre-programmed rules.\n",
            "* **Financial Trading Bots:**  Automated systems that analyze market data, make trades, and adjust their strategies based on market conditions.\n",
            "\n",
            "**In Summary:**\n",
            "\n",
            "Agentic AI is about creating AI systems that can think, plan, and act like intelligent agents, not just passive tools. They are designed to be autonomous, goal-oriented, and capable of interacting with the world to achieve their objectives. This is a significant step beyond traditional AI and opens up many exciting possibilities.\n",
            "\n",
            "**Think of it this way:**\n",
            "\n",
            "* **Traditional AI:** Like a calculator – you give it inputs, it gives you a specific output.\n",
            "* **Agentic AI:** Like a personal assistant – you give it a goal, it figures out how to achieve it.\n",
            "\n",
            "Does that make sense? Let me know if you have any more questions! I'm happy to elaborate on any of these points.\n",
            "\n"
          ]
        }
      ]
    }
  ]
}