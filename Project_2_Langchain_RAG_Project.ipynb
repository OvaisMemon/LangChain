{
  "nbformat": 4,
  "nbformat_minor": 0,
  "metadata": {
    "colab": {
      "provenance": [],
      "authorship_tag": "ABX9TyOa931GH7x0BT49vKnpJhvW",
      "include_colab_link": true
    },
    "kernelspec": {
      "name": "python3",
      "display_name": "Python 3"
    },
    "language_info": {
      "name": "python"
    }
  },
  "cells": [
    {
      "cell_type": "markdown",
      "metadata": {
        "id": "view-in-github",
        "colab_type": "text"
      },
      "source": [
        "<a href=\"https://colab.research.google.com/github/OvaisMemon/LangChain/blob/main/Project_2_Langchain_RAG_Project.ipynb\" target=\"_parent\"><img src=\"https://colab.research.google.com/assets/colab-badge.svg\" alt=\"Open In Colab\"/></a>"
      ]
    },
    {
      "cell_type": "markdown",
      "source": [
        "**Step 1: Install Langchain Pinecone**"
      ],
      "metadata": {
        "id": "PcLmHIr1ulpM"
      }
    },
    {
      "cell_type": "code",
      "execution_count": null,
      "metadata": {
        "id": "guGQF-g4tb8x"
      },
      "outputs": [],
      "source": [
        "%pip install -qU langchain-pinecone langchain-google-genai"
      ]
    },
    {
      "cell_type": "markdown",
      "source": [
        "**Step 2: Import Necessary Packages and Setup Pinecone API**"
      ],
      "metadata": {
        "id": "2c7FSfd5usuT"
      }
    },
    {
      "cell_type": "code",
      "source": [
        "from pinecone import Pinecone, ServerlessSpec\n",
        "from google.colab import userdata\n",
        "\n",
        "pinecone_api_key = userdata.get('PINECONE_API_KEY')\n",
        "\n",
        "pc = Pinecone(api_key=pinecone_api_key)"
      ],
      "metadata": {
        "id": "BosIrruOuZVC"
      },
      "execution_count": null,
      "outputs": []
    },
    {
      "cell_type": "markdown",
      "source": [
        "**Step 3: Initialize Pinecone Index**"
      ],
      "metadata": {
        "id": "VOmlqHgEvkWp"
      }
    },
    {
      "cell_type": "code",
      "source": [
        "index_name = \"langchain-test-index-01\"\n",
        "\n",
        "existing_indexes = [index_info[\"name\"] for index_info in pc.list_indexes()]\n",
        "\n",
        "if index_name not in existing_indexes:\n",
        "    pc.create_index(\n",
        "        name=index_name,\n",
        "        dimension=768,\n",
        "        metric=\"cosine\",\n",
        "        spec=ServerlessSpec(cloud=\"aws\", region=\"us-east-1\"),\n",
        "    )\n",
        "index = pc.Index(index_name)"
      ],
      "metadata": {
        "id": "f2CMyc-Hu8S6"
      },
      "execution_count": null,
      "outputs": []
    },
    {
      "cell_type": "markdown",
      "source": [
        "**Step 4: Initialize Embedding Model of Google**"
      ],
      "metadata": {
        "id": "73HEiNMRwnYY"
      }
    },
    {
      "cell_type": "code",
      "source": [
        "from langchain_google_genai import GoogleGenerativeAIEmbeddings\n",
        "import os\n",
        "\n",
        "Google_Api_Key = userdata.get('GEMINI_API_KEY')\n",
        "embeddings = GoogleGenerativeAIEmbeddings(model=\"models/embedding-001\", google_api_key=Google_Api_Key)"
      ],
      "metadata": {
        "id": "JbWlXI4uwsAx"
      },
      "execution_count": null,
      "outputs": []
    },
    {
      "cell_type": "markdown",
      "source": [
        "**[Below code is for Test Purpose only]**"
      ],
      "metadata": {
        "id": "SDKS1s2wbiFj"
      }
    },
    {
      "cell_type": "code",
      "source": [
        "vector = embeddings.embed_query(\"Hello world\");\n",
        "vector[:5]"
      ],
      "metadata": {
        "colab": {
          "base_uri": "https://localhost:8080/"
        },
        "id": "Fr7qL-ltTH4I",
        "outputId": "1e994a40-f4e4-43e0-ad3a-b13789766283",
        "collapsed": true
      },
      "execution_count": null,
      "outputs": [
        {
          "output_type": "execute_result",
          "data": {
            "text/plain": [
              "[0.04703257977962494,\n",
              " -0.04019005596637726,\n",
              " -0.02902696467936039,\n",
              " -0.026809632778167725,\n",
              " 0.01892058178782463]"
            ]
          },
          "metadata": {},
          "execution_count": 47
        }
      ]
    },
    {
      "cell_type": "markdown",
      "source": [
        "**Step 5: Setup Vector Store**"
      ],
      "metadata": {
        "id": "ovfRbwPXze5-"
      }
    },
    {
      "cell_type": "code",
      "source": [
        "from langchain_pinecone import PineconeVectorStore\n",
        "\n",
        "vector_store = PineconeVectorStore(index=index, embedding=embeddings)"
      ],
      "metadata": {
        "id": "omhN69lHzeN1"
      },
      "execution_count": null,
      "outputs": []
    },
    {
      "cell_type": "markdown",
      "source": [
        "**Step 6: Add Items to Vector Store**"
      ],
      "metadata": {
        "id": "DONRAZbGzo4F"
      }
    },
    {
      "cell_type": "code",
      "source": [
        "from uuid import uuid4\n",
        "\n",
        "from langchain_core.documents import Document\n",
        "\n",
        "document_1 = Document(\n",
        "    page_content=\"I had chocalate chip pancakes and scrambled eggs for breakfast this morning.\",\n",
        "    metadata={\"source\": \"tweet\"},\n",
        ")\n",
        "\n",
        "document_2 = Document(\n",
        "    page_content=\"The weather forecast for tomorrow is cloudy and overcast, with a high of 62 degrees.\",\n",
        "    metadata={\"source\": \"news\"},\n",
        ")\n",
        "\n",
        "document_3 = Document(\n",
        "    page_content=\"Building an exciting new project with LangChain - come check it out!\",\n",
        "    metadata={\"source\": \"tweet\"},\n",
        ")\n",
        "\n",
        "document_4 = Document(\n",
        "    page_content=\"Robbers broke into the city bank and stole $1 million in cash.\",\n",
        "    metadata={\"source\": \"news\"},\n",
        ")\n",
        "\n",
        "document_5 = Document(\n",
        "    page_content=\"Wow! That was an amazing movie. I can't wait to see it again.\",\n",
        "    metadata={\"source\": \"tweet\"},\n",
        ")\n",
        "\n",
        "document_6 = Document(\n",
        "    page_content=\"Is the new iPhone worth the price? Read this review to find out.\",\n",
        "    metadata={\"source\": \"website\"},\n",
        ")\n",
        "\n",
        "document_7 = Document(\n",
        "    page_content=\"The top 10 soccer players in the world right now.\",\n",
        "    metadata={\"source\": \"website\"},\n",
        ")\n",
        "\n",
        "document_8 = Document(\n",
        "    page_content=\"LangGraph is the best framework for building stateful, agentic applications!\",\n",
        "    metadata={\"source\": \"tweet\"},\n",
        ")\n",
        "\n",
        "document_9 = Document(\n",
        "    page_content=\"The stock market is down 500 points today due to fears of a recession.\",\n",
        "    metadata={\"source\": \"news\"},\n",
        ")\n",
        "\n",
        "document_10 = Document(\n",
        "    page_content=\"I have a bad feeling I am going to get deleted :(\",\n",
        "    metadata={\"source\": \"tweet\"},\n",
        ")\n",
        "\n",
        "documents = [\n",
        "    document_1,\n",
        "    document_2,\n",
        "    document_3,\n",
        "    document_4,\n",
        "    document_5,\n",
        "    document_6,\n",
        "    document_7,\n",
        "    document_8,\n",
        "    document_9,\n",
        "    document_10,\n",
        "]\n",
        "uuids = [str(uuid4()) for _ in range(len(documents))]\n",
        "\n",
        "vector_store.add_documents(documents=documents, ids=uuids)"
      ],
      "metadata": {
        "colab": {
          "base_uri": "https://localhost:8080/"
        },
        "id": "Nl966ji2zn09",
        "outputId": "83e027d8-3439-4b36-9065-8b2dd5026d98",
        "collapsed": true
      },
      "execution_count": null,
      "outputs": [
        {
          "output_type": "execute_result",
          "data": {
            "text/plain": [
              "['8408b887-116d-4799-82df-9f8d3efc6789',\n",
              " '6d15f871-31e9-4783-a015-1c6e6c0a2613',\n",
              " '54f4c927-119c-4b35-bb80-8172eebd303d',\n",
              " '6b8add1e-5924-4139-996d-1732a016b317',\n",
              " '1bfa1670-d074-47b6-9cdf-74d4a9c71a31',\n",
              " 'bec5f13c-a76c-4f64-9ee2-bb582c1258d5',\n",
              " 'cec66572-b672-46ba-8ec6-bbeb0894774c',\n",
              " 'd5c9f555-b838-4d2a-814c-26dba4e22ba4',\n",
              " '94cb307d-8726-49b7-9efd-b36ba2b49a16',\n",
              " '84e5014e-bbea-4932-aa30-f5be9022bcf9']"
            ]
          },
          "metadata": {},
          "execution_count": 50
        }
      ]
    },
    {
      "cell_type": "markdown",
      "source": [
        "**Step 7 (a): Perform Similary Search on Vector Store**"
      ],
      "metadata": {
        "id": "IDg_EvYlcfhE"
      }
    },
    {
      "cell_type": "code",
      "source": [
        "results = vector_store.similarity_search(\"Langchain provides abstractions to make working with LLMs easy\", filter={\"source\":\"news\"})\n",
        "for result in results:\n",
        "  print(f\"*{result.page_content} [{result.metadata}]\")"
      ],
      "metadata": {
        "colab": {
          "base_uri": "https://localhost:8080/"
        },
        "id": "t9Y8nfFdcnNc",
        "outputId": "f1dbda6b-6272-4f97-f51d-8d9629296aec",
        "collapsed": true
      },
      "execution_count": null,
      "outputs": [
        {
          "output_type": "stream",
          "name": "stdout",
          "text": [
            "*The stock market is down 500 points today due to fears of a recession. [{'source': 'news'}]\n",
            "*The stock market is down 500 points today due to fears of a recession. [{'source': 'news'}]\n",
            "*The weather forecast for tomorrow is cloudy and overcast, with a high of 62 degrees. [{'source': 'news'}]\n",
            "*The weather forecast for tomorrow is cloudy and overcast, with a high of 62 degrees. [{'source': 'news'}]\n"
          ]
        }
      ]
    },
    {
      "cell_type": "markdown",
      "source": [
        "**Step 7 (b): Perform Similary Search with Score on Vector Score**"
      ],
      "metadata": {
        "id": "kUdaahVaeAbd"
      }
    },
    {
      "cell_type": "code",
      "source": [
        "results = vector_store.similarity_search_with_score(\"Langchain provides abstractions to make working with LLMs easy\", filter={\"source\":\"news\"})\n",
        "for result, score in results:\n",
        "  print(f\"* [SIM={score:3f}] {result.page_content} [{result.metadata}]\")"
      ],
      "metadata": {
        "colab": {
          "base_uri": "https://localhost:8080/"
        },
        "id": "JcaSP8uqdpLG",
        "outputId": "07169e88-4208-4696-cfc8-444dbb94df6c",
        "collapsed": true
      },
      "execution_count": null,
      "outputs": [
        {
          "output_type": "stream",
          "name": "stdout",
          "text": [
            "* [SIM=0.408264] The stock market is down 500 points today due to fears of a recession. [{'source': 'news'}]\n",
            "* [SIM=0.408264] The stock market is down 500 points today due to fears of a recession. [{'source': 'news'}]\n",
            "* [SIM=0.403576] The weather forecast for tomorrow is cloudy and overcast, with a high of 62 degrees. [{'source': 'news'}]\n",
            "* [SIM=0.403576] The weather forecast for tomorrow is cloudy and overcast, with a high of 62 degrees. [{'source': 'news'}]\n"
          ]
        }
      ]
    },
    {
      "cell_type": "markdown",
      "source": [
        "**Step 8: Inject the model**"
      ],
      "metadata": {
        "id": "el70bICLfpoy"
      }
    },
    {
      "cell_type": "code",
      "source": [
        "from langchain_google_genai import ChatGoogleGenerativeAI\n",
        "\n",
        "llm_model : ChatGoogleGenerativeAI = ChatGoogleGenerativeAI(model = \"gemini-2.0-flash-exp\",\n",
        "                                                            api_key = Google_Api_Key)"
      ],
      "metadata": {
        "id": "1xZaYCKGf7JF"
      },
      "execution_count": null,
      "outputs": []
    },
    {
      "cell_type": "markdown",
      "source": [
        "**Step 9: Augment vector response in the model**"
      ],
      "metadata": {
        "id": "OtjqK4Wmh_2H"
      }
    },
    {
      "cell_type": "code",
      "source": [
        "query = \"Why is the stock market down?\"\n",
        "vector_results = vector_store.similarity_search(query)\n",
        "response = llm_model.invoke(f\"Answer user queries {query} from these vector results {vector_results}\")\n",
        "\n",
        "print(response.content)"
      ],
      "metadata": {
        "colab": {
          "base_uri": "https://localhost:8080/"
        },
        "id": "gHx8_Smyg_LQ",
        "outputId": "a58adbf0-a52b-4151-e19a-fc42b279cb1d"
      },
      "execution_count": null,
      "outputs": [
        {
          "output_type": "stream",
          "name": "stdout",
          "text": [
            "The stock market is down 500 points today due to fears of a recession.\n",
            "\n"
          ]
        }
      ]
    }
  ]
}