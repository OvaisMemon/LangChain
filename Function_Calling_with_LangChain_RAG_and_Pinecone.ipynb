{
  "nbformat": 4,
  "nbformat_minor": 0,
  "metadata": {
    "colab": {
      "provenance": [],
      "authorship_tag": "ABX9TyPfkBB7Yh1LgzwXUhm911eP",
      "include_colab_link": true
    },
    "kernelspec": {
      "name": "python3",
      "display_name": "Python 3"
    },
    "language_info": {
      "name": "python"
    }
  },
  "cells": [
    {
      "cell_type": "markdown",
      "metadata": {
        "id": "view-in-github",
        "colab_type": "text"
      },
      "source": [
        "<a href=\"https://colab.research.google.com/github/OvaisMemon/LangChain/blob/main/Function_Calling_with_LangChain_RAG_and_Pinecone.ipynb\" target=\"_parent\"><img src=\"https://colab.research.google.com/assets/colab-badge.svg\" alt=\"Open In Colab\"/></a>"
      ]
    },
    {
      "cell_type": "markdown",
      "source": [
        "**Project 3: Implement Student Management System using LangChain, Function Calling, RAG and Pinecone DB**"
      ],
      "metadata": {
        "id": "b9bYr45NEyZV"
      }
    },
    {
      "cell_type": "markdown",
      "source": [
        "**Step 1: Install Langchain Pinecone**"
      ],
      "metadata": {
        "id": "10ZjE9k3ZP_M"
      }
    },
    {
      "cell_type": "code",
      "execution_count": 151,
      "metadata": {
        "collapsed": true,
        "id": "s1c8aOfSRxSn"
      },
      "outputs": [],
      "source": [
        "!pip install -Uq langchain-google-genai langchain-pinecone"
      ]
    },
    {
      "cell_type": "markdown",
      "source": [
        "**Step 2: Import Necessary Packages and Setup Google Gemini API Key**"
      ],
      "metadata": {
        "id": "xp41dhyjZZGp"
      }
    },
    {
      "cell_type": "code",
      "source": [
        "import langchain_google_genai as genai\n",
        "from langchain_google_genai import ChatGoogleGenerativeAI\n",
        "from google.colab import userdata\n",
        "\n",
        "GoogleAPIKey = userdata.get(\"GOOGLE_API_KEY\")\n",
        "model = ChatGoogleGenerativeAI(model = \"gemini-1.5-flash\", api_key=GoogleAPIKey)"
      ],
      "metadata": {
        "id": "HOxHKVU7SKRK"
      },
      "execution_count": 152,
      "outputs": []
    },
    {
      "cell_type": "markdown",
      "source": [
        "**Step 3: Import Necessary Packages and Setup Pinecone API Key**"
      ],
      "metadata": {
        "id": "4P1UxRrQZgFq"
      }
    },
    {
      "cell_type": "code",
      "source": [
        "from pinecone import Pinecone, ServerlessSpec\n",
        "\n",
        "PineconeAPIKey = userdata.get('PINECONE_API_KEY')\n",
        "\n",
        "pc = Pinecone(api_key=PineconeAPIKey)"
      ],
      "metadata": {
        "id": "5ckMoEbLS5-9"
      },
      "execution_count": 153,
      "outputs": []
    },
    {
      "cell_type": "markdown",
      "source": [
        "**Step 4: Initialize Pinecone Index**"
      ],
      "metadata": {
        "id": "4dUFKE5GZnsh"
      }
    },
    {
      "cell_type": "code",
      "source": [
        "index_name = \"langchain-function-calling-with-rag-index-01\"\n",
        "\n",
        "existing_indexes = [index_info[\"name\"] for index_info in pc.list_indexes()]\n",
        "\n",
        "if index_name not in existing_indexes:\n",
        "    pc.create_index(\n",
        "        name=index_name,\n",
        "        dimension=768,\n",
        "        metric=\"cosine\",\n",
        "        spec=ServerlessSpec(cloud=\"aws\", region=\"us-east-1\"),\n",
        "    )\n",
        "index = pc.Index(index_name)"
      ],
      "metadata": {
        "id": "sI6UwPG3TK9Y"
      },
      "execution_count": 154,
      "outputs": []
    },
    {
      "cell_type": "markdown",
      "source": [
        "**Step 5: Initialize Embedding Model of Google**"
      ],
      "metadata": {
        "id": "zI72sWcLZuyZ"
      }
    },
    {
      "cell_type": "code",
      "source": [
        "from langchain_google_genai import GoogleGenerativeAIEmbeddings\n",
        "\n",
        "embeddings = GoogleGenerativeAIEmbeddings(model=\"models/embedding-001\", google_api_key=GoogleAPIKey)"
      ],
      "metadata": {
        "id": "ZunEhmnOTV9J"
      },
      "execution_count": 155,
      "outputs": []
    },
    {
      "cell_type": "markdown",
      "source": [
        "**Step 6: Adding data into Vector Store leveraging Pinecone integration with LangChain**"
      ],
      "metadata": {
        "id": "D0DBbIBsZ2gh"
      }
    },
    {
      "cell_type": "code",
      "source": [
        "from langchain_core.documents import Document\n",
        "from langchain_pinecone import PineconeVectorStore\n",
        "\n",
        "student_data = [\n",
        "    {\"studentid\": \"1\", \"name\": \"John Doe\", \"roll_number\": \"101\"},\n",
        "    {\"studentid\": \"2\", \"name\": \"Jane Smith\", \"roll_number\": \"102\"},\n",
        "    {\"studentid\": \"3\", \"name\": \"Alice Johnson\", \"roll_number\": \"103\"},\n",
        "]\n",
        "\n",
        "documents = [\n",
        "    Document(\n",
        "        page_content=f\"Student ID: {record['studentid']}, Name: {record['name']}, Roll Number: {record['roll_number']}\",\n",
        "        metadata={\"studentid\": record[\"studentid\"], \"name\": record[\"name\"], \"roll_number\": record[\"roll_number\"]}\n",
        "    )\n",
        "    for record in student_data\n",
        "]\n",
        "\n",
        "vector_store = PineconeVectorStore(index=index, embedding=embeddings)\n",
        "vector_store.add_documents(documents)\n",
        "\n",
        "# Below code is used to insert data into Pinecone's index without using LangChain\n",
        "# for student in student_data:\n",
        "#     vector = embeddings.embed_query(f\"{student['name']} {student['roll_number']}\")\n",
        "#     index.upsert([(student[\"studentid\"], vector, student)])"
      ],
      "metadata": {
        "colab": {
          "base_uri": "https://localhost:8080/"
        },
        "collapsed": true,
        "id": "HIl3ACfuUOK3",
        "outputId": "d8163202-e538-4a93-f1bc-25478fd9b807"
      },
      "execution_count": 156,
      "outputs": [
        {
          "output_type": "execute_result",
          "data": {
            "text/plain": [
              "['9f3e7c8a-773c-4b23-9ccd-dca4bd9a9022',\n",
              " '0e9ccd8d-7d87-40d5-bb9c-60a4b661c278',\n",
              " '672d6f0d-0e2e-4f28-b9ec-f0972e2c7ca6']"
            ]
          },
          "metadata": {},
          "execution_count": 156
        }
      ]
    },
    {
      "cell_type": "markdown",
      "source": [
        "**Optional: For testing purpose only**"
      ],
      "metadata": {
        "id": "AxAw0HEPEOcN"
      }
    },
    {
      "cell_type": "code",
      "source": [
        "query1 = \"Who is at roll number 101 and 102?\"\n",
        "vector_results = vector_store.similarity_search(query1)\n",
        "\n",
        "response = model.invoke(f\"Answer user queries {query1} from these vector results {vector_results}\")\n",
        "print(response.content)"
      ],
      "metadata": {
        "colab": {
          "base_uri": "https://localhost:8080/"
        },
        "collapsed": true,
        "id": "rdjWep6RClwA",
        "outputId": "590b5f51-3d3c-4394-e7b6-8482328d24a1"
      },
      "execution_count": 167,
      "outputs": [
        {
          "output_type": "stream",
          "name": "stdout",
          "text": [
            "Roll number 101 is John Doe.  Roll number 102 is Jane Smith.\n"
          ]
        }
      ]
    },
    {
      "cell_type": "markdown",
      "source": [
        "**Step 7: Define Search function**"
      ],
      "metadata": {
        "id": "sepTj6rUaEca"
      }
    },
    {
      "cell_type": "code",
      "source": [
        "from langchain_core.messages import HumanMessage, SystemMessage\n",
        "\n",
        "def search_student(query: str) -> str:\n",
        "    \"\"\"Search for a student in the Pinecone index and return context for LLM.\"\"\"\n",
        "    query_vector = embeddings.embed_query(query)\n",
        "    results = index.query(vector=query_vector, top_k=1, include_metadata=True)\n",
        "    if results[\"matches\"]:\n",
        "        student = results[\"matches\"][0][\"metadata\"]\n",
        "        context = f\"Student Found: ID={student['studentid']}, Name={student['name']}, Roll Number={student['roll_number']}\"\n",
        "        return context\n",
        "    else:\n",
        "        return \"No matching student found.\""
      ],
      "metadata": {
        "id": "_9JT7b0YUbmu"
      },
      "execution_count": 168,
      "outputs": []
    },
    {
      "cell_type": "markdown",
      "source": [
        "**Step 8: Define Tool**"
      ],
      "metadata": {
        "id": "Fu054CJraIxp"
      }
    },
    {
      "cell_type": "code",
      "source": [
        "from langchain.tools import Tool\n",
        "\n",
        "search_tool = Tool(\n",
        "    name=\"Search Student\",\n",
        "    func=search_student,\n",
        "    description=\"Search for a student by name or roll number and return the context for further response generation.\"\n",
        ")\n",
        "\n",
        "tools = [search_tool]"
      ],
      "metadata": {
        "id": "IYVDlevgUfkO"
      },
      "execution_count": 169,
      "outputs": []
    },
    {
      "cell_type": "markdown",
      "source": [
        "**Step 9: Initialize LangChain Agent**"
      ],
      "metadata": {
        "id": "k2vdDIklaPoJ"
      }
    },
    {
      "cell_type": "code",
      "source": [
        "from langchain.agents import initialize_agent, AgentType\n",
        "\n",
        "agent = initialize_agent(\n",
        "    tools=tools,\n",
        "    llm=model,\n",
        "    agent=AgentType.ZERO_SHOT_REACT_DESCRIPTION,\n",
        "    verbose=True\n",
        ")"
      ],
      "metadata": {
        "id": "Wc8IssgBUph2"
      },
      "execution_count": 170,
      "outputs": []
    },
    {
      "cell_type": "markdown",
      "source": [
        "**Step 10: Run the Agent**"
      ],
      "metadata": {
        "id": "QRUcfMUdaUd4"
      }
    },
    {
      "cell_type": "code",
      "source": [
        "question = \"What is Jane Smith's roll number, return all the information associated with this.\"\n",
        "context = agent.run(question)"
      ],
      "metadata": {
        "colab": {
          "base_uri": "https://localhost:8080/"
        },
        "collapsed": true,
        "id": "ZpyJMLfMU9IO",
        "outputId": "2ce88302-10dc-436d-cd0f-78a7eb03b226"
      },
      "execution_count": 171,
      "outputs": [
        {
          "output_type": "stream",
          "name": "stdout",
          "text": [
            "\n",
            "\n",
            "\u001b[1m> Entering new AgentExecutor chain...\u001b[0m\n",
            "\u001b[32;1m\u001b[1;3mThought: I need to find Jane Smith's information using the Search Student tool.\n",
            "Action: Search Student\n",
            "Action Input: Jane Smith\u001b[0m\n",
            "Observation: \u001b[36;1m\u001b[1;3mStudent Found: ID=2, Name=Jane Smith, Roll Number=102\u001b[0m\n",
            "Thought:\u001b[32;1m\u001b[1;3mThought: I now know the final answer.\n",
            "Final Answer: Jane Smith's roll number is 102.  Her ID is 2.\u001b[0m\n",
            "\n",
            "\u001b[1m> Finished chain.\u001b[0m\n"
          ]
        }
      ]
    },
    {
      "cell_type": "markdown",
      "source": [
        "**Step 11: Give the model, the response from the agent and the context to generate the final answer**"
      ],
      "metadata": {
        "id": "xXB8uXGrdbJd"
      }
    },
    {
      "cell_type": "code",
      "source": [
        "response = model.invoke(f\"Answer the query {question} using the context {context} in a casual tone.\")\n",
        "print(response.content)"
      ],
      "metadata": {
        "colab": {
          "base_uri": "https://localhost:8080/"
        },
        "collapsed": true,
        "id": "s5AOixQQdcIX",
        "outputId": "de800bad-3606-4853-acaa-a965e0c85c30"
      },
      "execution_count": 172,
      "outputs": [
        {
          "output_type": "stream",
          "name": "stdout",
          "text": [
            "Jane Smith's roll number is 102.  Her ID is 2.  That's all we've got on her!\n"
          ]
        }
      ]
    }
  ]
}